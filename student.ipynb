{
 "cells": [
  {
   "cell_type": "markdown",
   "metadata": {},
   "source": [
    "## Final Project Submission\n",
    "\n",
    "* Student name: Simran Kaur\n",
    "* Student pace: Self paced - 60 weeks\n",
    "* Scheduled project review date/time: \n",
    "* Instructor name: Claude Fried\n",
    "* Blog post URL:"
   ]
  },
  {
   "cell_type": "markdown",
   "metadata": {},
   "source": [
    "# Microsoft x Hollywood"
   ]
  },
  {
   "cell_type": "markdown",
   "metadata": {},
   "source": [
    "![title](Images/logo.png)"
   ]
  },
  {
   "cell_type": "markdown",
   "metadata": {},
   "source": [
    "Author: Simran Kaur"
   ]
  },
  {
   "cell_type": "markdown",
   "metadata": {},
   "source": [
    "### Overview"
   ]
  },
  {
   "cell_type": "markdown",
   "metadata": {},
   "source": [
    "This project is to assist Microsoft produce movies. Microsoft is starting from scratch as they have no previous movie production experience. A few different analyses were performed. The first analysis was done on release date and the best time in the year to release a movie. A second analysis was done on genres, to determine which genres would be the most profitable for them to start off with. Lastly, a third analysis was done on movie runtimes, to see which runtime would be the most ideal. Microsoft can use the findings from this project to succesfully step into the world of Hollywood."
   ]
  },
  {
   "cell_type": "markdown",
   "metadata": {},
   "source": [
    "### Business Problem"
   ]
  },
  {
   "cell_type": "markdown",
   "metadata": {},
   "source": [
    "Microsoft wants to start creating movies however they're unsure of where to start. The movie industry has many variables to it, some being directors, actors, genre, required budget, etc. There are a lot of factors that need to be taken into account before a movie can go into production. Once the movie is made and showcased to the public, only then does revenue start to generate. The main question here is how can Microsoft most strategically enter the market? Some answers include when to release the movie, which genres would yield the highest return on interest (ROI) and how long should the movie runtime be."
   ]
  },
  {
   "cell_type": "markdown",
   "metadata": {},
   "source": [
    "### Data Analysis"
   ]
  },
  {
   "cell_type": "markdown",
   "metadata": {},
   "source": [
    "This analysis uses publically sourced data from thenumbers.com (tn) and well as the IMDb (Internet Movie Database). Specifically, release date, budget, revenue, genre and runtime minutes were the variables mapped together to draw different trends and measures of profitibility."
   ]
  },
  {
   "cell_type": "markdown",
   "metadata": {},
   "source": [
    "The original dataset had eleven different files. All files were imported and assessed for specific factors. Below, some csv files are previewed to create a dataframe, that includes all the neccessary variables for this analysis. "
   ]
  },
  {
   "cell_type": "code",
   "execution_count": 340,
   "metadata": {},
   "outputs": [],
   "source": [
    "# Importing all neccessary modules\n",
    "import pandas as pd\n",
    "import numpy as np\n",
    "import sqlite3\n",
    "import seaborn as sns\n",
    "import matplotlib as mpl\n",
    "import matplotlib.pyplot as plt\n",
    "%matplotlib inline\n",
    "\n",
    "# Assigning a connection\n",
    "conn = sqlite3.connect('data.sqlite')\n",
    "cur = conn.cursor()"
   ]
  },
  {
   "cell_type": "code",
   "execution_count": 341,
   "metadata": {
    "scrolled": true
   },
   "outputs": [
    {
     "data": {
      "text/plain": [
       "['imdb.title.crew.csv.gz',\n",
       " 'tmdb.movies.csv.gz',\n",
       " 'imdb.title.akas.csv.gz',\n",
       " 'imdb.title.ratings.csv.gz',\n",
       " 'imdb.name.basics.csv.gz',\n",
       " 'rt.reviews.tsv.gz',\n",
       " 'imdb.title.basics.csv.gz',\n",
       " 'rt.movie_info.tsv.gz',\n",
       " 'tn.movie_budgets.csv.gz',\n",
       " 'bom.movie_gross.csv.gz',\n",
       " 'imdb.title.principals.csv.gz']"
      ]
     },
     "execution_count": 341,
     "metadata": {},
     "output_type": "execute_result"
    }
   ],
   "source": [
    "# Getting the names of all files in the zipped folder\n",
    "import os\n",
    "list_zipped_data = os.listdir('zippedData')\n",
    "list_zipped_data"
   ]
  },
  {
   "cell_type": "code",
   "execution_count": 342,
   "metadata": {},
   "outputs": [
    {
     "data": {
      "text/html": [
       "<div>\n",
       "<style scoped>\n",
       "    .dataframe tbody tr th:only-of-type {\n",
       "        vertical-align: middle;\n",
       "    }\n",
       "\n",
       "    .dataframe tbody tr th {\n",
       "        vertical-align: top;\n",
       "    }\n",
       "\n",
       "    .dataframe thead th {\n",
       "        text-align: right;\n",
       "    }\n",
       "</style>\n",
       "<table border=\"1\" class=\"dataframe\">\n",
       "  <thead>\n",
       "    <tr style=\"text-align: right;\">\n",
       "      <th></th>\n",
       "      <th>id</th>\n",
       "      <th>release_date</th>\n",
       "      <th>movie</th>\n",
       "      <th>production_budget</th>\n",
       "      <th>domestic_gross</th>\n",
       "      <th>worldwide_gross</th>\n",
       "    </tr>\n",
       "  </thead>\n",
       "  <tbody>\n",
       "    <tr>\n",
       "      <th>0</th>\n",
       "      <td>1</td>\n",
       "      <td>Dec 18, 2009</td>\n",
       "      <td>Avatar</td>\n",
       "      <td>$425,000,000</td>\n",
       "      <td>$760,507,625</td>\n",
       "      <td>$2,776,345,279</td>\n",
       "    </tr>\n",
       "    <tr>\n",
       "      <th>1</th>\n",
       "      <td>2</td>\n",
       "      <td>May 20, 2011</td>\n",
       "      <td>Pirates of the Caribbean: On Stranger Tides</td>\n",
       "      <td>$410,600,000</td>\n",
       "      <td>$241,063,875</td>\n",
       "      <td>$1,045,663,875</td>\n",
       "    </tr>\n",
       "    <tr>\n",
       "      <th>2</th>\n",
       "      <td>3</td>\n",
       "      <td>Jun 7, 2019</td>\n",
       "      <td>Dark Phoenix</td>\n",
       "      <td>$350,000,000</td>\n",
       "      <td>$42,762,350</td>\n",
       "      <td>$149,762,350</td>\n",
       "    </tr>\n",
       "    <tr>\n",
       "      <th>3</th>\n",
       "      <td>4</td>\n",
       "      <td>May 1, 2015</td>\n",
       "      <td>Avengers: Age of Ultron</td>\n",
       "      <td>$330,600,000</td>\n",
       "      <td>$459,005,868</td>\n",
       "      <td>$1,403,013,963</td>\n",
       "    </tr>\n",
       "    <tr>\n",
       "      <th>4</th>\n",
       "      <td>5</td>\n",
       "      <td>Dec 15, 2017</td>\n",
       "      <td>Star Wars Ep. VIII: The Last Jedi</td>\n",
       "      <td>$317,000,000</td>\n",
       "      <td>$620,181,382</td>\n",
       "      <td>$1,316,721,747</td>\n",
       "    </tr>\n",
       "  </tbody>\n",
       "</table>\n",
       "</div>"
      ],
      "text/plain": [
       "   id  release_date                                        movie  \\\n",
       "0   1  Dec 18, 2009                                       Avatar   \n",
       "1   2  May 20, 2011  Pirates of the Caribbean: On Stranger Tides   \n",
       "2   3   Jun 7, 2019                                 Dark Phoenix   \n",
       "3   4   May 1, 2015                      Avengers: Age of Ultron   \n",
       "4   5  Dec 15, 2017            Star Wars Ep. VIII: The Last Jedi   \n",
       "\n",
       "  production_budget domestic_gross worldwide_gross  \n",
       "0      $425,000,000   $760,507,625  $2,776,345,279  \n",
       "1      $410,600,000   $241,063,875  $1,045,663,875  \n",
       "2      $350,000,000    $42,762,350    $149,762,350  \n",
       "3      $330,600,000   $459,005,868  $1,403,013,963  \n",
       "4      $317,000,000   $620,181,382  $1,316,721,747  "
      ]
     },
     "execution_count": 342,
     "metadata": {},
     "output_type": "execute_result"
    }
   ],
   "source": [
    "# Previewing the first 5 rows of the csv file\n",
    "df = pd.read_csv('zippedData/tn.movie_budgets.csv.gz',compression='gzip',error_bad_lines=False)\n",
    "df.head()"
   ]
  },
  {
   "cell_type": "code",
   "execution_count": 343,
   "metadata": {},
   "outputs": [
    {
     "data": {
      "text/html": [
       "<div>\n",
       "<style scoped>\n",
       "    .dataframe tbody tr th:only-of-type {\n",
       "        vertical-align: middle;\n",
       "    }\n",
       "\n",
       "    .dataframe tbody tr th {\n",
       "        vertical-align: top;\n",
       "    }\n",
       "\n",
       "    .dataframe thead th {\n",
       "        text-align: right;\n",
       "    }\n",
       "</style>\n",
       "<table border=\"1\" class=\"dataframe\">\n",
       "  <thead>\n",
       "    <tr style=\"text-align: right;\">\n",
       "      <th></th>\n",
       "      <th>tconst</th>\n",
       "      <th>averagerating</th>\n",
       "      <th>numvotes</th>\n",
       "    </tr>\n",
       "  </thead>\n",
       "  <tbody>\n",
       "    <tr>\n",
       "      <th>0</th>\n",
       "      <td>tt10356526</td>\n",
       "      <td>8.3</td>\n",
       "      <td>31</td>\n",
       "    </tr>\n",
       "    <tr>\n",
       "      <th>1</th>\n",
       "      <td>tt10384606</td>\n",
       "      <td>8.9</td>\n",
       "      <td>559</td>\n",
       "    </tr>\n",
       "    <tr>\n",
       "      <th>2</th>\n",
       "      <td>tt1042974</td>\n",
       "      <td>6.4</td>\n",
       "      <td>20</td>\n",
       "    </tr>\n",
       "    <tr>\n",
       "      <th>3</th>\n",
       "      <td>tt1043726</td>\n",
       "      <td>4.2</td>\n",
       "      <td>50352</td>\n",
       "    </tr>\n",
       "    <tr>\n",
       "      <th>4</th>\n",
       "      <td>tt1060240</td>\n",
       "      <td>6.5</td>\n",
       "      <td>21</td>\n",
       "    </tr>\n",
       "  </tbody>\n",
       "</table>\n",
       "</div>"
      ],
      "text/plain": [
       "       tconst  averagerating  numvotes\n",
       "0  tt10356526            8.3        31\n",
       "1  tt10384606            8.9       559\n",
       "2   tt1042974            6.4        20\n",
       "3   tt1043726            4.2     50352\n",
       "4   tt1060240            6.5        21"
      ]
     },
     "execution_count": 343,
     "metadata": {},
     "output_type": "execute_result"
    }
   ],
   "source": [
    "# Previewing the first 5 rows of the csv file\n",
    "df = pd.read_csv('zippedData/imdb.title.ratings.csv.gz',compression='gzip',error_bad_lines=False)\n",
    "df.head()"
   ]
  },
  {
   "cell_type": "code",
   "execution_count": 344,
   "metadata": {},
   "outputs": [
    {
     "data": {
      "text/html": [
       "<div>\n",
       "<style scoped>\n",
       "    .dataframe tbody tr th:only-of-type {\n",
       "        vertical-align: middle;\n",
       "    }\n",
       "\n",
       "    .dataframe tbody tr th {\n",
       "        vertical-align: top;\n",
       "    }\n",
       "\n",
       "    .dataframe thead th {\n",
       "        text-align: right;\n",
       "    }\n",
       "</style>\n",
       "<table border=\"1\" class=\"dataframe\">\n",
       "  <thead>\n",
       "    <tr style=\"text-align: right;\">\n",
       "      <th></th>\n",
       "      <th>tconst</th>\n",
       "      <th>primary_title</th>\n",
       "      <th>original_title</th>\n",
       "      <th>start_year</th>\n",
       "      <th>runtime_minutes</th>\n",
       "      <th>genres</th>\n",
       "    </tr>\n",
       "  </thead>\n",
       "  <tbody>\n",
       "    <tr>\n",
       "      <th>0</th>\n",
       "      <td>tt0063540</td>\n",
       "      <td>Sunghursh</td>\n",
       "      <td>Sunghursh</td>\n",
       "      <td>2013</td>\n",
       "      <td>175.0</td>\n",
       "      <td>Action,Crime,Drama</td>\n",
       "    </tr>\n",
       "    <tr>\n",
       "      <th>1</th>\n",
       "      <td>tt0066787</td>\n",
       "      <td>One Day Before the Rainy Season</td>\n",
       "      <td>Ashad Ka Ek Din</td>\n",
       "      <td>2019</td>\n",
       "      <td>114.0</td>\n",
       "      <td>Biography,Drama</td>\n",
       "    </tr>\n",
       "    <tr>\n",
       "      <th>2</th>\n",
       "      <td>tt0069049</td>\n",
       "      <td>The Other Side of the Wind</td>\n",
       "      <td>The Other Side of the Wind</td>\n",
       "      <td>2018</td>\n",
       "      <td>122.0</td>\n",
       "      <td>Drama</td>\n",
       "    </tr>\n",
       "    <tr>\n",
       "      <th>3</th>\n",
       "      <td>tt0069204</td>\n",
       "      <td>Sabse Bada Sukh</td>\n",
       "      <td>Sabse Bada Sukh</td>\n",
       "      <td>2018</td>\n",
       "      <td>NaN</td>\n",
       "      <td>Comedy,Drama</td>\n",
       "    </tr>\n",
       "    <tr>\n",
       "      <th>4</th>\n",
       "      <td>tt0100275</td>\n",
       "      <td>The Wandering Soap Opera</td>\n",
       "      <td>La Telenovela Errante</td>\n",
       "      <td>2017</td>\n",
       "      <td>80.0</td>\n",
       "      <td>Comedy,Drama,Fantasy</td>\n",
       "    </tr>\n",
       "  </tbody>\n",
       "</table>\n",
       "</div>"
      ],
      "text/plain": [
       "      tconst                    primary_title              original_title  \\\n",
       "0  tt0063540                        Sunghursh                   Sunghursh   \n",
       "1  tt0066787  One Day Before the Rainy Season             Ashad Ka Ek Din   \n",
       "2  tt0069049       The Other Side of the Wind  The Other Side of the Wind   \n",
       "3  tt0069204                  Sabse Bada Sukh             Sabse Bada Sukh   \n",
       "4  tt0100275         The Wandering Soap Opera       La Telenovela Errante   \n",
       "\n",
       "   start_year  runtime_minutes                genres  \n",
       "0        2013            175.0    Action,Crime,Drama  \n",
       "1        2019            114.0       Biography,Drama  \n",
       "2        2018            122.0                 Drama  \n",
       "3        2018              NaN          Comedy,Drama  \n",
       "4        2017             80.0  Comedy,Drama,Fantasy  "
      ]
     },
     "execution_count": 344,
     "metadata": {},
     "output_type": "execute_result"
    }
   ],
   "source": [
    "# Previewing the first 5 rows of the csv file\n",
    "df = pd.read_csv('zippedData/imdb.title.basics.csv.gz',compression='gzip',error_bad_lines=False)\n",
    "df.head()"
   ]
  },
  {
   "cell_type": "code",
   "execution_count": 345,
   "metadata": {},
   "outputs": [
    {
     "data": {
      "text/html": [
       "<div>\n",
       "<style scoped>\n",
       "    .dataframe tbody tr th:only-of-type {\n",
       "        vertical-align: middle;\n",
       "    }\n",
       "\n",
       "    .dataframe tbody tr th {\n",
       "        vertical-align: top;\n",
       "    }\n",
       "\n",
       "    .dataframe thead th {\n",
       "        text-align: right;\n",
       "    }\n",
       "</style>\n",
       "<table border=\"1\" class=\"dataframe\">\n",
       "  <thead>\n",
       "    <tr style=\"text-align: right;\">\n",
       "      <th></th>\n",
       "      <th>movie</th>\n",
       "      <th>release_date</th>\n",
       "      <th>production_budget</th>\n",
       "      <th>worldwide_gross</th>\n",
       "      <th>genres</th>\n",
       "      <th>runtime_minutes</th>\n",
       "    </tr>\n",
       "  </thead>\n",
       "  <tbody>\n",
       "    <tr>\n",
       "      <th>0</th>\n",
       "      <td>The Legend of Hercules</td>\n",
       "      <td>Jan 10, 2014</td>\n",
       "      <td>$70,000,000</td>\n",
       "      <td>$58,953,319</td>\n",
       "      <td>Action,Adventure,Fantasy</td>\n",
       "      <td>99.0</td>\n",
       "    </tr>\n",
       "    <tr>\n",
       "      <th>1</th>\n",
       "      <td>The Hammer</td>\n",
       "      <td>Mar 21, 2008</td>\n",
       "      <td>$850,000</td>\n",
       "      <td>$442,638</td>\n",
       "      <td>Biography,Drama,Sport</td>\n",
       "      <td>108.0</td>\n",
       "    </tr>\n",
       "    <tr>\n",
       "      <th>2</th>\n",
       "      <td>Baggage Claim</td>\n",
       "      <td>Sep 27, 2013</td>\n",
       "      <td>$8,500,000</td>\n",
       "      <td>$22,885,836</td>\n",
       "      <td>Comedy</td>\n",
       "      <td>96.0</td>\n",
       "    </tr>\n",
       "    <tr>\n",
       "      <th>3</th>\n",
       "      <td>Moneyball</td>\n",
       "      <td>Sep 23, 2011</td>\n",
       "      <td>$50,000,000</td>\n",
       "      <td>$111,300,835</td>\n",
       "      <td>Biography,Drama,Sport</td>\n",
       "      <td>133.0</td>\n",
       "    </tr>\n",
       "    <tr>\n",
       "      <th>4</th>\n",
       "      <td>Hereafter</td>\n",
       "      <td>Oct 15, 2010</td>\n",
       "      <td>$50,000,000</td>\n",
       "      <td>$108,660,270</td>\n",
       "      <td>Drama,Fantasy,Romance</td>\n",
       "      <td>129.0</td>\n",
       "    </tr>\n",
       "  </tbody>\n",
       "</table>\n",
       "</div>"
      ],
      "text/plain": [
       "                    movie  release_date production_budget worldwide_gross  \\\n",
       "0  The Legend of Hercules  Jan 10, 2014       $70,000,000     $58,953,319   \n",
       "1              The Hammer  Mar 21, 2008          $850,000        $442,638   \n",
       "2           Baggage Claim  Sep 27, 2013        $8,500,000     $22,885,836   \n",
       "3               Moneyball  Sep 23, 2011       $50,000,000    $111,300,835   \n",
       "4               Hereafter  Oct 15, 2010       $50,000,000    $108,660,270   \n",
       "\n",
       "                     genres  runtime_minutes  \n",
       "0  Action,Adventure,Fantasy             99.0  \n",
       "1     Biography,Drama,Sport            108.0  \n",
       "2                    Comedy             96.0  \n",
       "3     Biography,Drama,Sport            133.0  \n",
       "4     Drama,Fantasy,Romance            129.0  "
      ]
     },
     "execution_count": 345,
     "metadata": {},
     "output_type": "execute_result"
    }
   ],
   "source": [
    "from pandasql import sqldf\n",
    "import pandasql\n",
    "\n",
    "# dataframe creation\n",
    "df1 = pd.read_csv('zippedData/tn.movie_budgets.csv.gz',compression='gzip',error_bad_lines=False)\n",
    "df2 = pd.read_csv('zippedData/imdb.title.ratings.csv.gz',compression='gzip',error_bad_lines=False)\n",
    "df3 = pd.read_csv('zippedData/imdb.title.basics.csv.gz',compression='gzip',error_bad_lines=False)\n",
    "\n",
    "# defining the query \n",
    "query = \"\"\"SELECT movie, release_date, production_budget, worldwide_gross, genres, runtime_minutes\n",
    "FROM df2 \n",
    "JOIN df1 ON df1.movie=df3.primary_title\n",
    "JOIN df3 ON df2.tconst=df3.tconst \n",
    ";\"\"\"\n",
    "\n",
    "# returning query as a dataframe\n",
    "df_query_output = pandasql.sqldf(query)\n",
    "df_query_output.head()"
   ]
  },
  {
   "cell_type": "code",
   "execution_count": 346,
   "metadata": {
    "scrolled": true
   },
   "outputs": [
    {
     "name": "stdout",
     "output_type": "stream",
     "text": [
      "<class 'pandas.core.frame.DataFrame'>\n",
      "RangeIndex: 2875 entries, 0 to 2874\n",
      "Data columns (total 6 columns):\n",
      " #   Column             Non-Null Count  Dtype  \n",
      "---  ------             --------------  -----  \n",
      " 0   movie              2875 non-null   object \n",
      " 1   release_date       2875 non-null   object \n",
      " 2   production_budget  2875 non-null   object \n",
      " 3   worldwide_gross    2875 non-null   object \n",
      " 4   genres             2867 non-null   object \n",
      " 5   runtime_minutes    2757 non-null   float64\n",
      "dtypes: float64(1), object(5)\n",
      "memory usage: 134.9+ KB\n"
     ]
    }
   ],
   "source": [
    "# Getting a summary of the dataset that was created\n",
    "df_query_output.info()"
   ]
  },
  {
   "cell_type": "code",
   "execution_count": 347,
   "metadata": {},
   "outputs": [
    {
     "name": "stdout",
     "output_type": "stream",
     "text": [
      "<class 'pandas.core.frame.DataFrame'>\n",
      "Int64Index: 2752 entries, 0 to 2873\n",
      "Data columns (total 6 columns):\n",
      " #   Column             Non-Null Count  Dtype  \n",
      "---  ------             --------------  -----  \n",
      " 0   movie              2752 non-null   object \n",
      " 1   release_date       2752 non-null   object \n",
      " 2   production_budget  2752 non-null   object \n",
      " 3   worldwide_gross    2752 non-null   object \n",
      " 4   genres             2752 non-null   object \n",
      " 5   runtime_minutes    2752 non-null   float64\n",
      "dtypes: float64(1), object(5)\n",
      "memory usage: 150.5+ KB\n"
     ]
    }
   ],
   "source": [
    "# Dropping rows that don't have a complete set of values (specifically referring to the genres & runtime_minutes column) and rechecking the dataframe\n",
    "df4= df_query_output.dropna()\n",
    "df4.info()"
   ]
  },
  {
   "cell_type": "markdown",
   "metadata": {},
   "source": [
    "#### First Analysis - When is best time to release a movie?"
   ]
  },
  {
   "cell_type": "markdown",
   "metadata": {},
   "source": [
    "The first analysis assesses the best time to release a movie. From the dataframe, release date was converted from a full date to just the month. Then, the months were categorized into their respective quarters. A new column, titled \"quarter\", was created in the dataframe. "
   ]
  },
  {
   "cell_type": "code",
   "execution_count": 348,
   "metadata": {},
   "outputs": [
    {
     "name": "stderr",
     "output_type": "stream",
     "text": [
      "<ipython-input-348-060a26ae8d0a>:2: SettingWithCopyWarning: \n",
      "A value is trying to be set on a copy of a slice from a DataFrame.\n",
      "Try using .loc[row_indexer,col_indexer] = value instead\n",
      "\n",
      "See the caveats in the documentation: https://pandas.pydata.org/pandas-docs/stable/user_guide/indexing.html#returning-a-view-versus-a-copy\n",
      "  df4['release_date'] = pd.to_datetime(df4['release_date'])\n"
     ]
    },
    {
     "data": {
      "text/plain": [
       "dtype('<M8[ns]')"
      ]
     },
     "execution_count": 348,
     "metadata": {},
     "output_type": "execute_result"
    }
   ],
   "source": [
    "# Converting data type object to datetime\n",
    "df4['release_date'] = pd.to_datetime(df4['release_date'])\n",
    "# checking the data type\n",
    "df4['release_date'].dtype"
   ]
  },
  {
   "cell_type": "code",
   "execution_count": 349,
   "metadata": {},
   "outputs": [
    {
     "name": "stderr",
     "output_type": "stream",
     "text": [
      "<ipython-input-349-e49825c1442b>:2: SettingWithCopyWarning: \n",
      "A value is trying to be set on a copy of a slice from a DataFrame.\n",
      "Try using .loc[row_indexer,col_indexer] = value instead\n",
      "\n",
      "See the caveats in the documentation: https://pandas.pydata.org/pandas-docs/stable/user_guide/indexing.html#returning-a-view-versus-a-copy\n",
      "  df4['release_date'] = df4['release_date'].dt.strftime('%m').astype(int)\n"
     ]
    }
   ],
   "source": [
    "# Changing the date format to month only and creating a dictionary\n",
    "df4['release_date'] = df4['release_date'].dt.strftime('%m').astype(int)\n",
    "Movies_per_Month = df4['release_date'].value_counts().to_dict()"
   ]
  },
  {
   "cell_type": "code",
   "execution_count": 350,
   "metadata": {
    "scrolled": false
   },
   "outputs": [
    {
     "data": {
      "text/plain": [
       "{1: 175,\n",
       " 2: 194,\n",
       " 3: 230,\n",
       " 4: 237,\n",
       " 5: 182,\n",
       " 6: 224,\n",
       " 7: 207,\n",
       " 8: 227,\n",
       " 9: 236,\n",
       " 10: 263,\n",
       " 11: 228,\n",
       " 12: 349}"
      ]
     },
     "execution_count": 350,
     "metadata": {},
     "output_type": "execute_result"
    }
   ],
   "source": [
    "# Sorting the dictionary\n",
    "Months_Sorted = dict(sorted(Movies_per_Month.items()))\n",
    "Months_Sorted"
   ]
  },
  {
   "cell_type": "code",
   "execution_count": 351,
   "metadata": {
    "scrolled": false
   },
   "outputs": [
    {
     "name": "stderr",
     "output_type": "stream",
     "text": [
      "/Users/skaur/opt/anaconda3/envs/learn-env/lib/python3.8/site-packages/pandas/core/indexing.py:1596: SettingWithCopyWarning: \n",
      "A value is trying to be set on a copy of a slice from a DataFrame.\n",
      "Try using .loc[row_indexer,col_indexer] = value instead\n",
      "\n",
      "See the caveats in the documentation: https://pandas.pydata.org/pandas-docs/stable/user_guide/indexing.html#returning-a-view-versus-a-copy\n",
      "  self.obj[key] = _infer_fill_value(value)\n",
      "/Users/skaur/opt/anaconda3/envs/learn-env/lib/python3.8/site-packages/pandas/core/indexing.py:1765: SettingWithCopyWarning: \n",
      "A value is trying to be set on a copy of a slice from a DataFrame.\n",
      "Try using .loc[row_indexer,col_indexer] = value instead\n",
      "\n",
      "See the caveats in the documentation: https://pandas.pydata.org/pandas-docs/stable/user_guide/indexing.html#returning-a-view-versus-a-copy\n",
      "  isetter(loc, value)\n"
     ]
    },
    {
     "data": {
      "text/plain": [
       "Q4    840\n",
       "Q3    670\n",
       "Q2    643\n",
       "Q1    599\n",
       "Name: quarter, dtype: int64"
      ]
     },
     "execution_count": 351,
     "metadata": {},
     "output_type": "execute_result"
    }
   ],
   "source": [
    "# Creating a new column in the dataframe to account for quarter\n",
    "Q1 = [1, 2, 3]\n",
    "Q2 = [4, 5, 6]\n",
    "Q3 = [7, 8, 9]\n",
    "Q4 = [10, 11, 12]\n",
    "\n",
    "df4.loc[df4['release_date'].isin(Q1), 'quarter'] = 'Q1'\n",
    "df4.loc[df4['release_date'].isin(Q2), 'quarter'] = 'Q2'\n",
    "df4.loc[df4['release_date'].isin(Q3), 'quarter'] = 'Q3'\n",
    "df4.loc[df4['release_date'].isin(Q4), 'quarter'] = 'Q4'\n",
    "df4['quarter'].value_counts()"
   ]
  },
  {
   "cell_type": "code",
   "execution_count": 377,
   "metadata": {
    "scrolled": false
   },
   "outputs": [
    {
     "data": {
      "image/png": "[encoded data removed]",
      "text/plain": [
       "<Figure size 1080x576 with 1 Axes>"
      ]
     },
     "metadata": {
      "needs_background": "light"
     },
     "output_type": "display_data"
    }
   ],
   "source": [
    "#plotting the figure\n",
    "fig1 = plt.figure(figsize=(15, 8))\n",
    "fig1 = plt.bar(x=list(Months_Sorted.keys()), height=list(Months_Sorted.values()), width= 0.7, color= [\n",
    "    'xkcd:lightblue', \n",
    "    'xkcd:lightblue', \n",
    "    'xkcd:lightblue', \n",
    "    'xkcd:lightgreen', \n",
    "    'xkcd:lightgreen',\n",
    "    'xkcd:lightgreen',\n",
    "    'xkcd:yellow',\n",
    "    'xkcd:yellow',\n",
    "    'xkcd:yellow',\n",
    "    'xkcd:tomato',\n",
    "    'xkcd:tomato',\n",
    "    'xkcd:tomato'])                                                                                          \n",
    "plt.xlabel('Month', size=16)\n",
    "plt.ylabel('Number of Movies Released', size=16)\n",
    "plt.title('Timing Your Release', size=28)\n",
    "plt.xticks(ticks=range(13), labels=['', 'January', 'February', 'March', 'April', 'May', 'June', 'July', 'August', 'September', 'October', 'November', 'December'])\n",
    "plt.grid()\n",
    "plt.savefig('Movie_Releases_Per_Year')"
   ]
  },
  {
   "cell_type": "markdown",
   "metadata": {},
   "source": [
    "As seen above, December is when most movies are released and January is when the least number of movies are released. Likewise, Q4 (as highlighted the red columns) has the most movies released in the year whereas Q1, as highlighted by the blue columns, has the least number of movie releases. "
   ]
  },
  {
   "cell_type": "code",
   "execution_count": 353,
   "metadata": {
    "scrolled": false
   },
   "outputs": [
    {
     "name": "stderr",
     "output_type": "stream",
     "text": [
      "<ipython-input-353-c925c562c9b0>:2: SettingWithCopyWarning: \n",
      "A value is trying to be set on a copy of a slice from a DataFrame.\n",
      "Try using .loc[row_indexer,col_indexer] = value instead\n",
      "\n",
      "See the caveats in the documentation: https://pandas.pydata.org/pandas-docs/stable/user_guide/indexing.html#returning-a-view-versus-a-copy\n",
      "  df4['production_budget'] = df4.loc[:,'production_budget'].replace('$','').replace(',','')\n",
      "<ipython-input-353-c925c562c9b0>:3: SettingWithCopyWarning: \n",
      "A value is trying to be set on a copy of a slice from a DataFrame.\n",
      "Try using .loc[row_indexer,col_indexer] = value instead\n",
      "\n",
      "See the caveats in the documentation: https://pandas.pydata.org/pandas-docs/stable/user_guide/indexing.html#returning-a-view-versus-a-copy\n",
      "  df4['worldwide_gross'] = df4.loc[:,'worldwide_gross'].replace('$','').replace(',','')\n",
      "<ipython-input-353-c925c562c9b0>:5: SettingWithCopyWarning: \n",
      "A value is trying to be set on a copy of a slice from a DataFrame.\n",
      "Try using .loc[row_indexer,col_indexer] = value instead\n",
      "\n",
      "See the caveats in the documentation: https://pandas.pydata.org/pandas-docs/stable/user_guide/indexing.html#returning-a-view-versus-a-copy\n",
      "  df4['production_budget'] = df4['production_budget'].map(lambda x: x.replace('$','').replace(',',''))\n",
      "<ipython-input-353-c925c562c9b0>:6: SettingWithCopyWarning: \n",
      "A value is trying to be set on a copy of a slice from a DataFrame.\n",
      "Try using .loc[row_indexer,col_indexer] = value instead\n",
      "\n",
      "See the caveats in the documentation: https://pandas.pydata.org/pandas-docs/stable/user_guide/indexing.html#returning-a-view-versus-a-copy\n",
      "  df4['worldwide_gross'] = df4['worldwide_gross'].map(lambda x: x.replace('$','').replace(',',''))\n",
      "<ipython-input-353-c925c562c9b0>:9: SettingWithCopyWarning: \n",
      "A value is trying to be set on a copy of a slice from a DataFrame.\n",
      "Try using .loc[row_indexer,col_indexer] = value instead\n",
      "\n",
      "See the caveats in the documentation: https://pandas.pydata.org/pandas-docs/stable/user_guide/indexing.html#returning-a-view-versus-a-copy\n",
      "  df4['production_budget'] = df4.loc[:,'production_budget'].astype(int)\n",
      "<ipython-input-353-c925c562c9b0>:10: SettingWithCopyWarning: \n",
      "A value is trying to be set on a copy of a slice from a DataFrame.\n",
      "Try using .loc[row_indexer,col_indexer] = value instead\n",
      "\n",
      "See the caveats in the documentation: https://pandas.pydata.org/pandas-docs/stable/user_guide/indexing.html#returning-a-view-versus-a-copy\n",
      "  df4['worldwide_gross'] = df4.loc[:,'worldwide_gross'].astype(int)\n"
     ]
    }
   ],
   "source": [
    "# Removing $ and , from production_budget & worldwide_gross\n",
    "df4['production_budget'] = df4.loc[:,'production_budget'].replace('$','').replace(',','')\n",
    "df4['worldwide_gross'] = df4.loc[:,'worldwide_gross'].replace('$','').replace(',','')\n",
    "\n",
    "df4['production_budget'] = df4['production_budget'].map(lambda x: x.replace('$','').replace(',',''))\n",
    "df4['worldwide_gross'] = df4['worldwide_gross'].map(lambda x: x.replace('$','').replace(',',''))\n",
    "\n",
    "# Reassigning the datatype for roduction_budget & worldwide_gross\n",
    "df4['production_budget'] = df4.loc[:,'production_budget'].astype(int)\n",
    "df4['worldwide_gross'] = df4.loc[:,'worldwide_gross'].astype(int)"
   ]
  },
  {
   "cell_type": "code",
   "execution_count": 354,
   "metadata": {
    "scrolled": false
   },
   "outputs": [
    {
     "name": "stdout",
     "output_type": "stream",
     "text": [
      "int64\n",
      "int64\n"
     ]
    }
   ],
   "source": [
    "# Checking the datatypes of production_budget & worldwide_gross to make sure they're integers\n",
    "print(df4['production_budget'].dtype)\n",
    "print(df4['worldwide_gross'].dtype)"
   ]
  },
  {
   "cell_type": "code",
   "execution_count": 355,
   "metadata": {},
   "outputs": [
    {
     "data": {
      "text/plain": [
       "20000000     109\n",
       "10000000     106\n",
       "25000000      87\n",
       "5000000       85\n",
       "15000000      83\n",
       "            ... \n",
       "24200000       1\n",
       "97000000       1\n",
       "187500000      1\n",
       "2280000        1\n",
       "67500000       1\n",
       "Name: production_budget, Length: 319, dtype: int64"
      ]
     },
     "execution_count": 355,
     "metadata": {},
     "output_type": "execute_result"
    }
   ],
   "source": [
    "# Assessing the values in the production_budget column to make sure there are no nulls\n",
    "df4['production_budget'].value_counts()"
   ]
  },
  {
   "cell_type": "code",
   "execution_count": 356,
   "metadata": {},
   "outputs": [
    {
     "data": {
      "text/plain": [
       "1400"
      ]
     },
     "execution_count": 356,
     "metadata": {},
     "output_type": "execute_result"
    }
   ],
   "source": [
    "# Getting the minimum production budget\n",
    "df4['production_budget'].min()"
   ]
  },
  {
   "cell_type": "code",
   "execution_count": 357,
   "metadata": {},
   "outputs": [
    {
     "data": {
      "text/plain": [
       "425000000"
      ]
     },
     "execution_count": 357,
     "metadata": {},
     "output_type": "execute_result"
    }
   ],
   "source": [
    "# Getting the maximum production budget\n",
    "df4['production_budget'].max()"
   ]
  },
  {
   "cell_type": "code",
   "execution_count": 358,
   "metadata": {},
   "outputs": [
    {
     "data": {
      "text/plain": [
       "0             266\n",
       "5953886        10\n",
       "44793168        8\n",
       "385997896       8\n",
       "51078541        6\n",
       "             ... \n",
       "7445044         1\n",
       "40650842        1\n",
       "1234846267      1\n",
       "40966716        1\n",
       "835524642       1\n",
       "Name: worldwide_gross, Length: 1945, dtype: int64"
      ]
     },
     "execution_count": 358,
     "metadata": {},
     "output_type": "execute_result"
    }
   ],
   "source": [
    "# Assessing the values in the worldwide_gross column to make sure there are no nulls\n",
    "df4['worldwide_gross'].value_counts()"
   ]
  },
  {
   "cell_type": "code",
   "execution_count": 359,
   "metadata": {},
   "outputs": [
    {
     "data": {
      "text/plain": [
       "(2486, 7)"
      ]
     },
     "execution_count": 359,
     "metadata": {},
     "output_type": "execute_result"
    }
   ],
   "source": [
    "# Removing 0's from the worldwide_gross column & checking the shape of the dataframe\n",
    "df4 = df4[df4['worldwide_gross'] != 0]\n",
    "df4.shape"
   ]
  },
  {
   "cell_type": "code",
   "execution_count": 360,
   "metadata": {
    "scrolled": true
   },
   "outputs": [
    {
     "name": "stdout",
     "output_type": "stream",
     "text": [
      "<class 'pandas.core.frame.DataFrame'>\n",
      "Int64Index: 2486 entries, 0 to 2873\n",
      "Data columns (total 7 columns):\n",
      " #   Column             Non-Null Count  Dtype  \n",
      "---  ------             --------------  -----  \n",
      " 0   movie              2486 non-null   object \n",
      " 1   release_date       2486 non-null   int64  \n",
      " 2   production_budget  2486 non-null   int64  \n",
      " 3   worldwide_gross    2486 non-null   int64  \n",
      " 4   genres             2486 non-null   object \n",
      " 5   runtime_minutes    2486 non-null   float64\n",
      " 6   quarter            2486 non-null   object \n",
      "dtypes: float64(1), int64(3), object(3)\n",
      "memory usage: 155.4+ KB\n"
     ]
    }
   ],
   "source": [
    "# Rechecking the dataframe\n",
    "df4.info()"
   ]
  },
  {
   "cell_type": "code",
   "execution_count": 361,
   "metadata": {},
   "outputs": [
    {
     "data": {
      "text/plain": [
       "-60.307427      18\n",
       " 196.921458     15\n",
       " 125.843689     15\n",
       " 8858.633600    15\n",
       "-76.943770      13\n",
       "                ..\n",
       " 68.095879       1\n",
       "-48.031520       1\n",
       " 15.630900       1\n",
       " 4249.700800     1\n",
       " 210.736060      1\n",
       "Name: ROI, Length: 1944, dtype: int64"
      ]
     },
     "execution_count": 361,
     "metadata": {},
     "output_type": "execute_result"
    }
   ],
   "source": [
    "# Calculating ROI & creating a new column\n",
    "df5['ROI'] = df5.apply(lambda x: ((x.worldwide_gross - x.production_budget)/x.production_budget)*100, axis=1)\n",
    "\n",
    "# Assessing the values in the new ROI column\n",
    "df5['ROI'].value_counts()"
   ]
  },
  {
   "cell_type": "code",
   "execution_count": 362,
   "metadata": {},
   "outputs": [
    {
     "data": {
      "text/html": [
       "<div>\n",
       "<style scoped>\n",
       "    .dataframe tbody tr th:only-of-type {\n",
       "        vertical-align: middle;\n",
       "    }\n",
       "\n",
       "    .dataframe tbody tr th {\n",
       "        vertical-align: top;\n",
       "    }\n",
       "\n",
       "    .dataframe thead th {\n",
       "        text-align: right;\n",
       "    }\n",
       "</style>\n",
       "<table border=\"1\" class=\"dataframe\">\n",
       "  <thead>\n",
       "    <tr style=\"text-align: right;\">\n",
       "      <th></th>\n",
       "      <th>release_date</th>\n",
       "      <th>production_budget</th>\n",
       "      <th>worldwide_gross</th>\n",
       "      <th>runtime_minutes</th>\n",
       "      <th>ROI</th>\n",
       "    </tr>\n",
       "    <tr>\n",
       "      <th>quarter</th>\n",
       "      <th></th>\n",
       "      <th></th>\n",
       "      <th></th>\n",
       "      <th></th>\n",
       "      <th></th>\n",
       "    </tr>\n",
       "  </thead>\n",
       "  <tbody>\n",
       "    <tr>\n",
       "      <th>Q1</th>\n",
       "      <td>2.100781</td>\n",
       "      <td>4.096166e+07</td>\n",
       "      <td>1.184197e+08</td>\n",
       "      <td>104.010937</td>\n",
       "      <td>333.027648</td>\n",
       "    </tr>\n",
       "    <tr>\n",
       "      <th>Q2</th>\n",
       "      <td>4.967977</td>\n",
       "      <td>5.177107e+07</td>\n",
       "      <td>1.688909e+08</td>\n",
       "      <td>106.045852</td>\n",
       "      <td>341.590712</td>\n",
       "    </tr>\n",
       "    <tr>\n",
       "      <th>Q3</th>\n",
       "      <td>8.035245</td>\n",
       "      <td>3.515163e+07</td>\n",
       "      <td>1.013033e+08</td>\n",
       "      <td>103.259157</td>\n",
       "      <td>356.048902</td>\n",
       "    </tr>\n",
       "    <tr>\n",
       "      <th>Q4</th>\n",
       "      <td>11.022520</td>\n",
       "      <td>4.013165e+07</td>\n",
       "      <td>1.282280e+08</td>\n",
       "      <td>109.037127</td>\n",
       "      <td>351.240763</td>\n",
       "    </tr>\n",
       "  </tbody>\n",
       "</table>\n",
       "</div>"
      ],
      "text/plain": [
       "         release_date  production_budget  worldwide_gross  runtime_minutes  \\\n",
       "quarter                                                                      \n",
       "Q1           2.100781       4.096166e+07     1.184197e+08       104.010937   \n",
       "Q2           4.967977       5.177107e+07     1.688909e+08       106.045852   \n",
       "Q3           8.035245       3.515163e+07     1.013033e+08       103.259157   \n",
       "Q4          11.022520       4.013165e+07     1.282280e+08       109.037127   \n",
       "\n",
       "                ROI  \n",
       "quarter              \n",
       "Q1       333.027648  \n",
       "Q2       341.590712  \n",
       "Q3       356.048902  \n",
       "Q4       351.240763  "
      ]
     },
     "execution_count": 362,
     "metadata": {},
     "output_type": "execute_result"
    }
   ],
   "source": [
    "# Grouping the values of the ROI column by quarter\n",
    "df5.groupby('quarter').mean()"
   ]
  },
  {
   "cell_type": "code",
   "execution_count": 363,
   "metadata": {},
   "outputs": [],
   "source": [
    "monthROI = df5.groupby('quarter').mean()"
   ]
  },
  {
   "cell_type": "code",
   "execution_count": 364,
   "metadata": {
    "scrolled": true
   },
   "outputs": [
    {
     "data": {
      "image/png": "[encoded data removed]",
      "text/plain": [
       "<Figure size 720x360 with 1 Axes>"
      ]
     },
     "metadata": {
      "needs_background": "light"
     },
     "output_type": "display_data"
    }
   ],
   "source": [
    "#plotting the figure\n",
    "fig2 = plt.figure(figsize=(10, 5))\n",
    "fig2 = plt.bar(monthROI.index, monthROI.ROI, width= 0.6, color= [\n",
    "    'xkcd:lightblue',  \n",
    "    'xkcd:lightgreen', \n",
    "    'xkcd:yellow',\n",
    "    'xkcd:tomato'])                                                                 \n",
    "plt.xlabel('Quarter', size=16)\n",
    "plt.ylabel('ROI', size=16)\n",
    "plt.title('Timing Your Release - ROI', size=28)\n",
    "plt.grid()\n",
    "plt.savefig('Movie_Releases_&_ROI')"
   ]
  },
  {
   "cell_type": "markdown",
   "metadata": {},
   "source": [
    "The four quarters have similar ROIs. Quarter 1, highlighted in blue has the lowest ROI and quarter 3, highlighted in yellow has the highest ROI."
   ]
  },
  {
   "cell_type": "markdown",
   "metadata": {},
   "source": [
    "#### Second Analysis - Genres & ROI"
   ]
  },
  {
   "cell_type": "markdown",
   "metadata": {},
   "source": [
    "The second analysis looks into genres along with analyzing production costs and worldwide revenues. Those two variables were used to determine the return on interest (ROI) each movie had. The movies were grouped by genre to determine which genre has the highest yielding ROI. "
   ]
  },
  {
   "cell_type": "code",
   "execution_count": 365,
   "metadata": {},
   "outputs": [
    {
     "data": {
      "text/plain": [
       "dtype('O')"
      ]
     },
     "execution_count": 365,
     "metadata": {},
     "output_type": "execute_result"
    }
   ],
   "source": [
    "# Checking current datatype of \"genres\" column\n",
    "df5['genres'].dtype"
   ]
  },
  {
   "cell_type": "code",
   "execution_count": 366,
   "metadata": {},
   "outputs": [
    {
     "data": {
      "text/plain": [
       "['Action']"
      ]
     },
     "execution_count": 366,
     "metadata": {},
     "output_type": "execute_result"
    }
   ],
   "source": [
    "# Checking the first value in the genres column\n",
    "df5['genres'].values[0]"
   ]
  },
  {
   "cell_type": "code",
   "execution_count": 367,
   "metadata": {},
   "outputs": [
    {
     "data": {
      "text/plain": [
       "array([list(['Action']), list(['Adventure']), list(['Fantasy']),\n",
       "       list(['Biography']), list(['Drama'])], dtype=object)"
      ]
     },
     "execution_count": 367,
     "metadata": {},
     "output_type": "execute_result"
    }
   ],
   "source": [
    "df5['genres'].head().values"
   ]
  },
  {
   "cell_type": "code",
   "execution_count": 368,
   "metadata": {},
   "outputs": [
    {
     "data": {
      "text/html": [
       "<div>\n",
       "<style scoped>\n",
       "    .dataframe tbody tr th:only-of-type {\n",
       "        vertical-align: middle;\n",
       "    }\n",
       "\n",
       "    .dataframe tbody tr th {\n",
       "        vertical-align: top;\n",
       "    }\n",
       "\n",
       "    .dataframe thead th {\n",
       "        text-align: right;\n",
       "    }\n",
       "</style>\n",
       "<table border=\"1\" class=\"dataframe\">\n",
       "  <thead>\n",
       "    <tr style=\"text-align: right;\">\n",
       "      <th></th>\n",
       "      <th>movie</th>\n",
       "      <th>release_date</th>\n",
       "      <th>production_budget</th>\n",
       "      <th>worldwide_gross</th>\n",
       "      <th>genres</th>\n",
       "      <th>runtime_minutes</th>\n",
       "      <th>quarter</th>\n",
       "      <th>ROI</th>\n",
       "    </tr>\n",
       "  </thead>\n",
       "  <tbody>\n",
       "    <tr>\n",
       "      <th>0</th>\n",
       "      <td>The Legend of Hercules</td>\n",
       "      <td>1</td>\n",
       "      <td>70000000</td>\n",
       "      <td>58953319</td>\n",
       "      <td>Action</td>\n",
       "      <td>99.0</td>\n",
       "      <td>Q1</td>\n",
       "      <td>-15.780973</td>\n",
       "    </tr>\n",
       "    <tr>\n",
       "      <th>0</th>\n",
       "      <td>The Legend of Hercules</td>\n",
       "      <td>1</td>\n",
       "      <td>70000000</td>\n",
       "      <td>58953319</td>\n",
       "      <td>Adventure</td>\n",
       "      <td>99.0</td>\n",
       "      <td>Q1</td>\n",
       "      <td>-15.780973</td>\n",
       "    </tr>\n",
       "    <tr>\n",
       "      <th>0</th>\n",
       "      <td>The Legend of Hercules</td>\n",
       "      <td>1</td>\n",
       "      <td>70000000</td>\n",
       "      <td>58953319</td>\n",
       "      <td>Fantasy</td>\n",
       "      <td>99.0</td>\n",
       "      <td>Q1</td>\n",
       "      <td>-15.780973</td>\n",
       "    </tr>\n",
       "    <tr>\n",
       "      <th>1</th>\n",
       "      <td>The Hammer</td>\n",
       "      <td>3</td>\n",
       "      <td>850000</td>\n",
       "      <td>442638</td>\n",
       "      <td>Biography</td>\n",
       "      <td>108.0</td>\n",
       "      <td>Q1</td>\n",
       "      <td>-47.924941</td>\n",
       "    </tr>\n",
       "    <tr>\n",
       "      <th>1</th>\n",
       "      <td>The Hammer</td>\n",
       "      <td>3</td>\n",
       "      <td>850000</td>\n",
       "      <td>442638</td>\n",
       "      <td>Drama</td>\n",
       "      <td>108.0</td>\n",
       "      <td>Q1</td>\n",
       "      <td>-47.924941</td>\n",
       "    </tr>\n",
       "  </tbody>\n",
       "</table>\n",
       "</div>"
      ],
      "text/plain": [
       "                    movie  release_date  production_budget  worldwide_gross  \\\n",
       "0  The Legend of Hercules             1           70000000         58953319   \n",
       "0  The Legend of Hercules             1           70000000         58953319   \n",
       "0  The Legend of Hercules             1           70000000         58953319   \n",
       "1              The Hammer             3             850000           442638   \n",
       "1              The Hammer             3             850000           442638   \n",
       "\n",
       "      genres  runtime_minutes quarter        ROI  \n",
       "0     Action             99.0      Q1 -15.780973  \n",
       "0  Adventure             99.0      Q1 -15.780973  \n",
       "0    Fantasy             99.0      Q1 -15.780973  \n",
       "1  Biography            108.0      Q1 -47.924941  \n",
       "1      Drama            108.0      Q1 -47.924941  "
      ]
     },
     "execution_count": 368,
     "metadata": {},
     "output_type": "execute_result"
    }
   ],
   "source": [
    "df6 = df5.explode('genres')\n",
    "df6.head()"
   ]
  },
  {
   "cell_type": "code",
   "execution_count": 369,
   "metadata": {},
   "outputs": [
    {
     "data": {
      "text/plain": [
       "-60.307427      18\n",
       " 196.921458     15\n",
       " 125.843689     15\n",
       " 8858.633600    15\n",
       "-76.943770      13\n",
       "                ..\n",
       " 68.095879       1\n",
       "-48.031520       1\n",
       " 15.630900       1\n",
       " 4249.700800     1\n",
       " 210.736060      1\n",
       "Name: ROI, Length: 1944, dtype: int64"
      ]
     },
     "execution_count": 369,
     "metadata": {},
     "output_type": "execute_result"
    }
   ],
   "source": [
    "# Calculating ROI & creating a new column\n",
    "df6['ROI'] = df6.apply(lambda x: ((x.worldwide_gross - x.production_budget)/x.production_budget)*100, axis=1)\n",
    "\n",
    "# Assessing the values in the new ROI column\n",
    "df6['ROI'].value_counts()"
   ]
  },
  {
   "cell_type": "code",
   "execution_count": 370,
   "metadata": {},
   "outputs": [
    {
     "data": {
      "text/html": [
       "<div>\n",
       "<style scoped>\n",
       "    .dataframe tbody tr th:only-of-type {\n",
       "        vertical-align: middle;\n",
       "    }\n",
       "\n",
       "    .dataframe tbody tr th {\n",
       "        vertical-align: top;\n",
       "    }\n",
       "\n",
       "    .dataframe thead th {\n",
       "        text-align: right;\n",
       "    }\n",
       "</style>\n",
       "<table border=\"1\" class=\"dataframe\">\n",
       "  <thead>\n",
       "    <tr style=\"text-align: right;\">\n",
       "      <th></th>\n",
       "      <th>release_date</th>\n",
       "      <th>production_budget</th>\n",
       "      <th>worldwide_gross</th>\n",
       "      <th>runtime_minutes</th>\n",
       "      <th>ROI</th>\n",
       "    </tr>\n",
       "    <tr>\n",
       "      <th>genres</th>\n",
       "      <th></th>\n",
       "      <th></th>\n",
       "      <th></th>\n",
       "      <th></th>\n",
       "      <th></th>\n",
       "    </tr>\n",
       "  </thead>\n",
       "  <tbody>\n",
       "    <tr>\n",
       "      <th>Horror</th>\n",
       "      <td>6.619048</td>\n",
       "      <td>2.117511e+07</td>\n",
       "      <td>7.819026e+07</td>\n",
       "      <td>95.673469</td>\n",
       "      <td>898.095555</td>\n",
       "    </tr>\n",
       "    <tr>\n",
       "      <th>Mystery</th>\n",
       "      <td>6.568528</td>\n",
       "      <td>2.366820e+07</td>\n",
       "      <td>7.867879e+07</td>\n",
       "      <td>102.842640</td>\n",
       "      <td>707.405812</td>\n",
       "    </tr>\n",
       "    <tr>\n",
       "      <th>Thriller</th>\n",
       "      <td>6.721963</td>\n",
       "      <td>3.099006e+07</td>\n",
       "      <td>9.428917e+07</td>\n",
       "      <td>103.474299</td>\n",
       "      <td>552.903819</td>\n",
       "    </tr>\n",
       "    <tr>\n",
       "      <th>Biography</th>\n",
       "      <td>7.877005</td>\n",
       "      <td>2.627967e+07</td>\n",
       "      <td>7.540644e+07</td>\n",
       "      <td>112.727273</td>\n",
       "      <td>411.647122</td>\n",
       "    </tr>\n",
       "    <tr>\n",
       "      <th>Sport</th>\n",
       "      <td>7.859649</td>\n",
       "      <td>2.578421e+07</td>\n",
       "      <td>8.457967e+07</td>\n",
       "      <td>110.263158</td>\n",
       "      <td>387.075365</td>\n",
       "    </tr>\n",
       "    <tr>\n",
       "      <th>Documentary</th>\n",
       "      <td>7.063218</td>\n",
       "      <td>2.478200e+07</td>\n",
       "      <td>6.582087e+07</td>\n",
       "      <td>80.609195</td>\n",
       "      <td>381.686989</td>\n",
       "    </tr>\n",
       "    <tr>\n",
       "      <th>Fantasy</th>\n",
       "      <td>6.239264</td>\n",
       "      <td>7.312815e+07</td>\n",
       "      <td>2.302004e+08</td>\n",
       "      <td>108.987730</td>\n",
       "      <td>363.704891</td>\n",
       "    </tr>\n",
       "    <tr>\n",
       "      <th>Family</th>\n",
       "      <td>7.314961</td>\n",
       "      <td>5.832118e+07</td>\n",
       "      <td>1.834023e+08</td>\n",
       "      <td>103.874016</td>\n",
       "      <td>359.631311</td>\n",
       "    </tr>\n",
       "    <tr>\n",
       "      <th>Animation</th>\n",
       "      <td>6.901639</td>\n",
       "      <td>9.001876e+07</td>\n",
       "      <td>3.347348e+08</td>\n",
       "      <td>93.491803</td>\n",
       "      <td>347.690553</td>\n",
       "    </tr>\n",
       "    <tr>\n",
       "      <th>Romance</th>\n",
       "      <td>6.542373</td>\n",
       "      <td>2.188519e+07</td>\n",
       "      <td>6.842656e+07</td>\n",
       "      <td>106.376271</td>\n",
       "      <td>326.065511</td>\n",
       "    </tr>\n",
       "    <tr>\n",
       "      <th>Drama</th>\n",
       "      <td>7.055556</td>\n",
       "      <td>2.562958e+07</td>\n",
       "      <td>6.764523e+07</td>\n",
       "      <td>108.128615</td>\n",
       "      <td>292.258240</td>\n",
       "    </tr>\n",
       "    <tr>\n",
       "      <th>Comedy</th>\n",
       "      <td>6.779736</td>\n",
       "      <td>3.631324e+07</td>\n",
       "      <td>1.174478e+08</td>\n",
       "      <td>102.212922</td>\n",
       "      <td>283.649161</td>\n",
       "    </tr>\n",
       "    <tr>\n",
       "      <th>Musical</th>\n",
       "      <td>6.777778</td>\n",
       "      <td>4.430556e+07</td>\n",
       "      <td>2.048818e+08</td>\n",
       "      <td>110.222222</td>\n",
       "      <td>282.226434</td>\n",
       "    </tr>\n",
       "    <tr>\n",
       "      <th>Music</th>\n",
       "      <td>7.202899</td>\n",
       "      <td>1.568145e+07</td>\n",
       "      <td>6.558335e+07</td>\n",
       "      <td>104.710145</td>\n",
       "      <td>257.640466</td>\n",
       "    </tr>\n",
       "    <tr>\n",
       "      <th>History</th>\n",
       "      <td>7.285714</td>\n",
       "      <td>3.159871e+07</td>\n",
       "      <td>7.139431e+07</td>\n",
       "      <td>115.642857</td>\n",
       "      <td>237.250793</td>\n",
       "    </tr>\n",
       "    <tr>\n",
       "      <th>Sci-Fi</th>\n",
       "      <td>6.383333</td>\n",
       "      <td>7.848218e+07</td>\n",
       "      <td>2.777445e+08</td>\n",
       "      <td>110.427778</td>\n",
       "      <td>236.149928</td>\n",
       "    </tr>\n",
       "    <tr>\n",
       "      <th>Action</th>\n",
       "      <td>6.464789</td>\n",
       "      <td>7.083458e+07</td>\n",
       "      <td>2.091825e+08</td>\n",
       "      <td>111.728873</td>\n",
       "      <td>235.684234</td>\n",
       "    </tr>\n",
       "    <tr>\n",
       "      <th>Adventure</th>\n",
       "      <td>6.730496</td>\n",
       "      <td>9.588333e+07</td>\n",
       "      <td>3.123508e+08</td>\n",
       "      <td>109.732861</td>\n",
       "      <td>229.655377</td>\n",
       "    </tr>\n",
       "    <tr>\n",
       "      <th>Crime</th>\n",
       "      <td>6.787037</td>\n",
       "      <td>3.000449e+07</td>\n",
       "      <td>7.355464e+07</td>\n",
       "      <td>107.737654</td>\n",
       "      <td>141.279403</td>\n",
       "    </tr>\n",
       "    <tr>\n",
       "      <th>News</th>\n",
       "      <td>10.000000</td>\n",
       "      <td>1.660000e+07</td>\n",
       "      <td>3.668208e+07</td>\n",
       "      <td>68.666667</td>\n",
       "      <td>95.367885</td>\n",
       "    </tr>\n",
       "    <tr>\n",
       "      <th>Western</th>\n",
       "      <td>8.083333</td>\n",
       "      <td>5.523333e+07</td>\n",
       "      <td>1.022115e+08</td>\n",
       "      <td>114.166667</td>\n",
       "      <td>58.643771</td>\n",
       "    </tr>\n",
       "    <tr>\n",
       "      <th>War</th>\n",
       "      <td>6.736842</td>\n",
       "      <td>2.369737e+07</td>\n",
       "      <td>4.369558e+07</td>\n",
       "      <td>114.842105</td>\n",
       "      <td>50.251487</td>\n",
       "    </tr>\n",
       "  </tbody>\n",
       "</table>\n",
       "</div>"
      ],
      "text/plain": [
       "             release_date  production_budget  worldwide_gross  \\\n",
       "genres                                                          \n",
       "Horror           6.619048       2.117511e+07     7.819026e+07   \n",
       "Mystery          6.568528       2.366820e+07     7.867879e+07   \n",
       "Thriller         6.721963       3.099006e+07     9.428917e+07   \n",
       "Biography        7.877005       2.627967e+07     7.540644e+07   \n",
       "Sport            7.859649       2.578421e+07     8.457967e+07   \n",
       "Documentary      7.063218       2.478200e+07     6.582087e+07   \n",
       "Fantasy          6.239264       7.312815e+07     2.302004e+08   \n",
       "Family           7.314961       5.832118e+07     1.834023e+08   \n",
       "Animation        6.901639       9.001876e+07     3.347348e+08   \n",
       "Romance          6.542373       2.188519e+07     6.842656e+07   \n",
       "Drama            7.055556       2.562958e+07     6.764523e+07   \n",
       "Comedy           6.779736       3.631324e+07     1.174478e+08   \n",
       "Musical          6.777778       4.430556e+07     2.048818e+08   \n",
       "Music            7.202899       1.568145e+07     6.558335e+07   \n",
       "History          7.285714       3.159871e+07     7.139431e+07   \n",
       "Sci-Fi           6.383333       7.848218e+07     2.777445e+08   \n",
       "Action           6.464789       7.083458e+07     2.091825e+08   \n",
       "Adventure        6.730496       9.588333e+07     3.123508e+08   \n",
       "Crime            6.787037       3.000449e+07     7.355464e+07   \n",
       "News            10.000000       1.660000e+07     3.668208e+07   \n",
       "Western          8.083333       5.523333e+07     1.022115e+08   \n",
       "War              6.736842       2.369737e+07     4.369558e+07   \n",
       "\n",
       "             runtime_minutes         ROI  \n",
       "genres                                    \n",
       "Horror             95.673469  898.095555  \n",
       "Mystery           102.842640  707.405812  \n",
       "Thriller          103.474299  552.903819  \n",
       "Biography         112.727273  411.647122  \n",
       "Sport             110.263158  387.075365  \n",
       "Documentary        80.609195  381.686989  \n",
       "Fantasy           108.987730  363.704891  \n",
       "Family            103.874016  359.631311  \n",
       "Animation          93.491803  347.690553  \n",
       "Romance           106.376271  326.065511  \n",
       "Drama             108.128615  292.258240  \n",
       "Comedy            102.212922  283.649161  \n",
       "Musical           110.222222  282.226434  \n",
       "Music             104.710145  257.640466  \n",
       "History           115.642857  237.250793  \n",
       "Sci-Fi            110.427778  236.149928  \n",
       "Action            111.728873  235.684234  \n",
       "Adventure         109.732861  229.655377  \n",
       "Crime             107.737654  141.279403  \n",
       "News               68.666667   95.367885  \n",
       "Western           114.166667   58.643771  \n",
       "War               114.842105   50.251487  "
      ]
     },
     "execution_count": 370,
     "metadata": {},
     "output_type": "execute_result"
    }
   ],
   "source": [
    "# Grouping the values of the ROI column by genres\n",
    "df6.groupby('genres').mean().sort_values('ROI', ascending=False)"
   ]
  },
  {
   "cell_type": "code",
   "execution_count": 371,
   "metadata": {},
   "outputs": [],
   "source": [
    "top5ROI = df6.groupby('genres').mean().sort_values('ROI', ascending=False).head()"
   ]
  },
  {
   "cell_type": "code",
   "execution_count": 380,
   "metadata": {
    "scrolled": true
   },
   "outputs": [
    {
     "data": {
      "image/png": "[encoded data removed]",
      "text/plain": [
       "<Figure size 720x576 with 1 Axes>"
      ]
     },
     "metadata": {
      "needs_background": "light"
     },
     "output_type": "display_data"
    }
   ],
   "source": [
    "# setting the dimensions of the plot\n",
    "fig, ax = plt.subplots(figsize=(10,8))\n",
    "\n",
    "# Setting parameters to the plot\n",
    "fig3 = sns.barplot(x=top5ROI.index, y=top5ROI.ROI, ax=ax, color=\"dodgerblue\")\n",
    "fig3.set_xlabel('Genre', size=16)\n",
    "fig3.set_ylabel('ROI', size=16)\n",
    "fig3.set_title('Genres With Highest ROI', size=26)\n",
    "fig3.grid()\n",
    "plt.savefig('Genres With the Highest ROI')"
   ]
  },
  {
   "cell_type": "markdown",
   "metadata": {},
   "source": [
    "As seen above, horror movies have the highest ROI, followed by mystery and then thriller. "
   ]
  },
  {
   "cell_type": "markdown",
   "metadata": {},
   "source": [
    "#### Third Analysis - Runtime and Average Rating"
   ]
  },
  {
   "cell_type": "markdown",
   "metadata": {},
   "source": [
    "A third analysis was conducted on movie runtimes. The runtimes were first assessed and then anything less then 1 hour was dropped to get a more inconclusive population. The purpose of this analysis is to determine the ideal runtime of a movie."
   ]
  },
  {
   "cell_type": "code",
   "execution_count": 381,
   "metadata": {
    "scrolled": false
   },
   "outputs": [
    {
     "name": "stdout",
     "output_type": "stream",
     "text": [
      "nan\n",
      "nan\n",
      "nan\n"
     ]
    }
   ],
   "source": [
    "# Getting the minimum and maximum from the Runtime column\n",
    "print(df6['runtime_minutes'].min())\n",
    "print(df6['runtime_minutes'].max())\n",
    "print(df6['runtime_minutes'].mean())"
   ]
  },
  {
   "cell_type": "code",
   "execution_count": 382,
   "metadata": {},
   "outputs": [
    {
     "name": "stdout",
     "output_type": "stream",
     "text": [
      "<class 'pandas.core.frame.DataFrame'>\n",
      "Int64Index: 0 entries\n",
      "Data columns (total 8 columns):\n",
      " #   Column             Non-Null Count  Dtype  \n",
      "---  ------             --------------  -----  \n",
      " 0   movie              0 non-null      object \n",
      " 1   release_date       0 non-null      int64  \n",
      " 2   production_budget  0 non-null      int64  \n",
      " 3   worldwide_gross    0 non-null      int64  \n",
      " 4   genres             0 non-null      object \n",
      " 5   runtime_minutes    0 non-null      float64\n",
      " 6   quarter            0 non-null      object \n",
      " 7   ROI                0 non-null      float64\n",
      "dtypes: float64(2), int64(3), object(3)\n",
      "memory usage: 80.0+ bytes\n"
     ]
    }
   ],
   "source": [
    "# Dropping runtime minute values less than 1 hour\n",
    "df6 = df6.drop((df6['runtime_minutes'] >= 60.0).index)\n",
    "df6.info()"
   ]
  },
  {
   "cell_type": "code",
   "execution_count": 375,
   "metadata": {},
   "outputs": [
    {
     "ename": "ValueError",
     "evalue": "cannot set a frame with no defined index and a scalar",
     "output_type": "error",
     "traceback": [
      "\u001b[0;31m---------------------------------------------------------------------------\u001b[0m",
      "\u001b[0;31mValueError\u001b[0m                                Traceback (most recent call last)",
      "\u001b[0;32m<ipython-input-375-fe16a7089330>\u001b[0m in \u001b[0;36m<module>\u001b[0;34m\u001b[0m\n\u001b[1;32m      1\u001b[0m \u001b[0;31m# Creating a new column which will put the runtimes in buckets\u001b[0m\u001b[0;34m\u001b[0m\u001b[0;34m\u001b[0m\u001b[0;34m\u001b[0m\u001b[0m\n\u001b[0;32m----> 2\u001b[0;31m \u001b[0mdf6\u001b[0m\u001b[0;34m.\u001b[0m\u001b[0mloc\u001b[0m\u001b[0;34m[\u001b[0m\u001b[0;34m(\u001b[0m\u001b[0mdf6\u001b[0m\u001b[0;34m[\u001b[0m\u001b[0;34m'runtime_minutes'\u001b[0m\u001b[0;34m]\u001b[0m \u001b[0;34m<=\u001b[0m \u001b[0;36m90.0\u001b[0m\u001b[0;34m)\u001b[0m \u001b[0;34m&\u001b[0m \u001b[0;34m(\u001b[0m\u001b[0mdf6\u001b[0m\u001b[0;34m[\u001b[0m\u001b[0;34m'runtime_minutes'\u001b[0m\u001b[0;34m]\u001b[0m \u001b[0;34m>=\u001b[0m \u001b[0;36m60.0\u001b[0m\u001b[0;34m)\u001b[0m\u001b[0;34m,\u001b[0m \u001b[0;34m'RTM Bucket'\u001b[0m\u001b[0;34m]\u001b[0m \u001b[0;34m=\u001b[0m \u001b[0;34m'Between 1 hour and 1.5 hours'\u001b[0m \u001b[0;31m# RTM shortened for runtime_minutes\u001b[0m\u001b[0;34m\u001b[0m\u001b[0;34m\u001b[0m\u001b[0m\n\u001b[0m\u001b[1;32m      3\u001b[0m \u001b[0mdf6\u001b[0m\u001b[0;34m.\u001b[0m\u001b[0mloc\u001b[0m\u001b[0;34m[\u001b[0m\u001b[0;34m(\u001b[0m\u001b[0mdf6\u001b[0m\u001b[0;34m[\u001b[0m\u001b[0;34m'runtime_minutes'\u001b[0m\u001b[0;34m]\u001b[0m \u001b[0;34m<=\u001b[0m \u001b[0;36m120.0\u001b[0m\u001b[0;34m)\u001b[0m \u001b[0;34m&\u001b[0m \u001b[0;34m(\u001b[0m\u001b[0mdf6\u001b[0m\u001b[0;34m[\u001b[0m\u001b[0;34m'runtime_minutes'\u001b[0m\u001b[0;34m]\u001b[0m \u001b[0;34m>=\u001b[0m \u001b[0;36m91.0\u001b[0m\u001b[0;34m)\u001b[0m\u001b[0;34m,\u001b[0m \u001b[0;34m'RTM Bucket'\u001b[0m\u001b[0;34m]\u001b[0m \u001b[0;34m=\u001b[0m \u001b[0;34m'Between 1.5 hours and 2 hours'\u001b[0m\u001b[0;34m\u001b[0m\u001b[0;34m\u001b[0m\u001b[0m\n\u001b[1;32m      4\u001b[0m \u001b[0mdf6\u001b[0m\u001b[0;34m.\u001b[0m\u001b[0mloc\u001b[0m\u001b[0;34m[\u001b[0m\u001b[0;34m(\u001b[0m\u001b[0mdf6\u001b[0m\u001b[0;34m[\u001b[0m\u001b[0;34m'runtime_minutes'\u001b[0m\u001b[0;34m]\u001b[0m \u001b[0;34m<=\u001b[0m \u001b[0;36m150.0\u001b[0m\u001b[0;34m)\u001b[0m \u001b[0;34m&\u001b[0m \u001b[0;34m(\u001b[0m\u001b[0mdf6\u001b[0m\u001b[0;34m[\u001b[0m\u001b[0;34m'runtime_minutes'\u001b[0m\u001b[0;34m]\u001b[0m \u001b[0;34m>=\u001b[0m \u001b[0;36m121.0\u001b[0m\u001b[0;34m)\u001b[0m\u001b[0;34m,\u001b[0m \u001b[0;34m'RTM Bucket'\u001b[0m\u001b[0;34m]\u001b[0m \u001b[0;34m=\u001b[0m \u001b[0;34m'Between 2 hours and 2.5 hours'\u001b[0m\u001b[0;34m\u001b[0m\u001b[0;34m\u001b[0m\u001b[0m\n\u001b[1;32m      5\u001b[0m \u001b[0mdf6\u001b[0m\u001b[0;34m.\u001b[0m\u001b[0mloc\u001b[0m\u001b[0;34m[\u001b[0m\u001b[0;34m(\u001b[0m\u001b[0mdf6\u001b[0m\u001b[0;34m[\u001b[0m\u001b[0;34m'runtime_minutes'\u001b[0m\u001b[0;34m]\u001b[0m \u001b[0;34m<=\u001b[0m \u001b[0;36m180.0\u001b[0m\u001b[0;34m)\u001b[0m \u001b[0;34m&\u001b[0m \u001b[0;34m(\u001b[0m\u001b[0mdf6\u001b[0m\u001b[0;34m[\u001b[0m\u001b[0;34m'runtime_minutes'\u001b[0m\u001b[0;34m]\u001b[0m \u001b[0;34m>=\u001b[0m \u001b[0;36m151.0\u001b[0m\u001b[0;34m)\u001b[0m\u001b[0;34m,\u001b[0m \u001b[0;34m'RTM Bucket'\u001b[0m\u001b[0;34m]\u001b[0m \u001b[0;34m=\u001b[0m \u001b[0;34m'Between 2.5 hours and 3 hours'\u001b[0m\u001b[0;34m\u001b[0m\u001b[0;34m\u001b[0m\u001b[0m\n",
      "\u001b[0;32m~/opt/anaconda3/envs/learn-env/lib/python3.8/site-packages/pandas/core/indexing.py\u001b[0m in \u001b[0;36m__setitem__\u001b[0;34m(self, key, value)\u001b[0m\n\u001b[1;32m    668\u001b[0m \u001b[0;34m\u001b[0m\u001b[0m\n\u001b[1;32m    669\u001b[0m         \u001b[0miloc\u001b[0m \u001b[0;34m=\u001b[0m \u001b[0mself\u001b[0m \u001b[0;32mif\u001b[0m \u001b[0mself\u001b[0m\u001b[0;34m.\u001b[0m\u001b[0mname\u001b[0m \u001b[0;34m==\u001b[0m \u001b[0;34m\"iloc\"\u001b[0m \u001b[0;32melse\u001b[0m \u001b[0mself\u001b[0m\u001b[0;34m.\u001b[0m\u001b[0mobj\u001b[0m\u001b[0;34m.\u001b[0m\u001b[0miloc\u001b[0m\u001b[0;34m\u001b[0m\u001b[0;34m\u001b[0m\u001b[0m\n\u001b[0;32m--> 670\u001b[0;31m         \u001b[0miloc\u001b[0m\u001b[0;34m.\u001b[0m\u001b[0m_setitem_with_indexer\u001b[0m\u001b[0;34m(\u001b[0m\u001b[0mindexer\u001b[0m\u001b[0;34m,\u001b[0m \u001b[0mvalue\u001b[0m\u001b[0;34m)\u001b[0m\u001b[0;34m\u001b[0m\u001b[0;34m\u001b[0m\u001b[0m\n\u001b[0m\u001b[1;32m    671\u001b[0m \u001b[0;34m\u001b[0m\u001b[0m\n\u001b[1;32m    672\u001b[0m     \u001b[0;32mdef\u001b[0m \u001b[0m_validate_key\u001b[0m\u001b[0;34m(\u001b[0m\u001b[0mself\u001b[0m\u001b[0;34m,\u001b[0m \u001b[0mkey\u001b[0m\u001b[0;34m,\u001b[0m \u001b[0maxis\u001b[0m\u001b[0;34m:\u001b[0m \u001b[0mint\u001b[0m\u001b[0;34m)\u001b[0m\u001b[0;34m:\u001b[0m\u001b[0;34m\u001b[0m\u001b[0;34m\u001b[0m\u001b[0m\n",
      "\u001b[0;32m~/opt/anaconda3/envs/learn-env/lib/python3.8/site-packages/pandas/core/indexing.py\u001b[0m in \u001b[0;36m_setitem_with_indexer\u001b[0;34m(self, indexer, value)\u001b[0m\n\u001b[1;32m   1586\u001b[0m                         \u001b[0;32mif\u001b[0m \u001b[0many\u001b[0m\u001b[0;34m(\u001b[0m\u001b[0;32mnot\u001b[0m \u001b[0ml\u001b[0m \u001b[0;32mfor\u001b[0m \u001b[0ml\u001b[0m \u001b[0;32min\u001b[0m \u001b[0mlen_non_info_axes\u001b[0m\u001b[0;34m)\u001b[0m\u001b[0;34m:\u001b[0m\u001b[0;34m\u001b[0m\u001b[0;34m\u001b[0m\u001b[0m\n\u001b[1;32m   1587\u001b[0m                             \u001b[0;32mif\u001b[0m \u001b[0;32mnot\u001b[0m \u001b[0mis_list_like_indexer\u001b[0m\u001b[0;34m(\u001b[0m\u001b[0mvalue\u001b[0m\u001b[0;34m)\u001b[0m\u001b[0;34m:\u001b[0m\u001b[0;34m\u001b[0m\u001b[0;34m\u001b[0m\u001b[0m\n\u001b[0;32m-> 1588\u001b[0;31m                                 raise ValueError(\n\u001b[0m\u001b[1;32m   1589\u001b[0m                                     \u001b[0;34m\"cannot set a frame with no \"\u001b[0m\u001b[0;34m\u001b[0m\u001b[0;34m\u001b[0m\u001b[0m\n\u001b[1;32m   1590\u001b[0m                                     \u001b[0;34m\"defined index and a scalar\"\u001b[0m\u001b[0;34m\u001b[0m\u001b[0;34m\u001b[0m\u001b[0m\n",
      "\u001b[0;31mValueError\u001b[0m: cannot set a frame with no defined index and a scalar"
     ]
    }
   ],
   "source": [
    "# Creating a new column which will put the runtimes in buckets\n",
    "df6.loc[(df6['runtime_minutes'] <= 90.0) & (df6['runtime_minutes'] >= 60.0), 'RTM Bucket'] = 'Between 1 hour and 1.5 hours' # RTM shortened for runtime_minutes\n",
    "df6.loc[(df6['runtime_minutes'] <= 120.0) & (df6['runtime_minutes'] >= 91.0), 'RTM Bucket'] = 'Between 1.5 hours and 2 hours'\n",
    "df6.loc[(df6['runtime_minutes'] <= 150.0) & (df6['runtime_minutes'] >= 121.0), 'RTM Bucket'] = 'Between 2 hours and 2.5 hours'\n",
    "df6.loc[(df6['runtime_minutes'] <= 180.0) & (df6['runtime_minutes'] >= 151.0), 'RTM Bucket'] = 'Between 2.5 hours and 3 hours'\n",
    "df6.loc[(df6['runtime_minutes'] < 180.0), 'RTM Bucket'] = 'Greater than 3 hours'\n",
    "df6['RTM Bucket'].value_counts()"
   ]
  },
  {
   "cell_type": "code",
   "execution_count": null,
   "metadata": {},
   "outputs": [],
   "source": [
    "# Plotting the RTM Bucket column\n",
    "fig3 = df6['RTM Bucket'].value_counts().plot(kind='barh')\n",
    "fig3 = plt.xlabel('Number of Movies', size=14)\n",
    "fig3 = plt.ylabel('Runtime Category', size=14)\n",
    "fig3 = plt.title(\"Popular Runtimes\", size=24)\n",
    "plt.savefig('Movie Runtimes')"
   ]
  },
  {
   "cell_type": "markdown",
   "metadata": {},
   "source": [
    "By a landslide, the most popular movie runtime is between one-and-a-half hours to two hours. A runtime between an hour and an hour-and-a-half had simialr results to movies that run between two hours and two-and-a-half hours. The least popular runtime was two-and-a-half hours to three hours. "
   ]
  },
  {
   "cell_type": "code",
   "execution_count": null,
   "metadata": {},
   "outputs": [],
   "source": []
  },
  {
   "cell_type": "markdown",
   "metadata": {},
   "source": [
    "### Conclusion"
   ]
  },
  {
   "cell_type": "markdown",
   "metadata": {},
   "source": [
    "This analysis has analyzed three seperate factors for Microsoft. Some conclusions are the best time in a year to release a movie, the movie genres that are the most popular and the ideal runtime for a movie. \n",
    "\n",
    "The best time to release a movie is in quarter 2, which falls into the months of April, May and June. Quarter 2 has the second lowest average number of movies being released. It would not be ideal to release a movie in quarter 4, which has the highest number of movie releases. As Microsoft is new to the industry, there is a chance their movie will not get as many views given that everyone is watching other movies. Quarter 1 has the lowest number of releases however the cold weather needs to be taken into account. With releasing a movie in April, May or June, everyone will want to be outside as the weather is getting warmer, this setting Microsoft up to get the most views. \n",
    "\n",
    "A second analysis was done on movie genres and which ones would generate the highest ROI. The top three categories were horror, mystery and thriller consecutively. Any of these three genre categories would be great starters for Microsoft.\n",
    "\n",
    "A third anaylsis was completed on movie runtimes. This was done to get an industry benchmark to determine how long the movie should be. It was found that most movies run between 90 to 120 minutes. This runtime would put Microsoft in a good place to get the most number of views possible. "
   ]
  }
 ],
 "metadata": {
  "kernelspec": {
   "display_name": "Python 3",
   "language": "python",
   "name": "python3"
  },
  "language_info": {
   "codemirror_mode": {
    "name": "ipython",
    "version": 3
   },
   "file_extension": ".py",
   "mimetype": "text/x-python",
   "name": "python",
   "nbconvert_exporter": "python",
   "pygments_lexer": "ipython3",
   "version": "3.8.5"
  }
 },
 "nbformat": 4,
 "nbformat_minor": 2
}
